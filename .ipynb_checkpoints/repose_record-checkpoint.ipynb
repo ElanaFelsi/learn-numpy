{
 "cells": [
  {
   "cell_type": "code",
   "execution_count": 56,
   "metadata": {},
   "outputs": [
    {
     "name": "stdout",
     "output_type": "stream",
     "text": [
      "OK!\n"
     ]
    }
   ],
   "source": [
    "#%pylab inline\n",
    "import numpy as np\n",
    "import re\n",
    "\n",
    "MINUTES = 60\n",
    "\n",
    "\n",
    "def solve_part1(inp):\n",
    "    all_ids = set([w.replace(\"#\", '') for w in inp.split() if w.startswith(\"#\")])\n",
    "    all_ids = list(all_ids)\n",
    "\n",
    "    records = inp.split(\"\\n\")\n",
    "    records.sort()\n",
    "\n",
    "    sleeping = np.zeros((len(all_ids), MINUTES))\n",
    "    for i in range(len(records)):\n",
    "        if \"#\" in records[i]:\n",
    "            m_id = re.findall('\\d+', str((records[i].split(\"#\")[1])))\n",
    "            m_id = m_id[0]\n",
    "            j = i+1\n",
    "            while '#' not in str(records[j]):\n",
    "                falls_asleep = str(records[j])\n",
    "                falls_asleep = falls_asleep.split(' ')[1].split(':')[1].replace(']','')\n",
    "                wakes_up = str(records[j+1])\n",
    "                wakes_up = wakes_up.split(' ')[1].split(':')[1].replace(']','')\n",
    "                sleeping[int(all_ids.index(m_id)), int(falls_asleep):(int(wakes_up))+1] +=1\n",
    "                if j+2 < len(records):\n",
    "                    j = j+2\n",
    "                else:\n",
    "                    break\n",
    "    total_minutes = np.sum(sleeping, axis=1)\n",
    "    gaurd_ind = int(np.where(total_minutes == np.amax(total_minutes))[0])\n",
    "    gaurd_id = int(all_ids[int(gaurd_ind)])\n",
    "    minute = np.where(sleeping[gaurd_ind] == np.amax(sleeping[gaurd_ind]))[0][0]\n",
    "    res = gaurd_id * int(minute)\n",
    "    return res\n",
    "\n",
    "\n",
    "\n",
    "\n",
    "assert solve_part1(open(\"day4.txt\").read()) == 67558\n",
    "\n",
    "print(\"OK!\")\n"
   ]
  },
  {
   "cell_type": "code",
   "execution_count": 68,
   "metadata": {},
   "outputs": [
    {
     "name": "stdout",
     "output_type": "stream",
     "text": [
      "OK!\n"
     ]
    }
   ],
   "source": [
    "import numpy as np\n",
    "import re\n",
    "\n",
    "MINUTES = 60\n",
    "\n",
    "\n",
    "def solve_part2(inp):\n",
    "    all_ids = set([w.replace(\"#\", '') for w in inp.split() if w.startswith(\"#\")])\n",
    "    all_ids = list(all_ids)\n",
    "\n",
    "    records = inp.split(\"\\n\")\n",
    "    records.sort()\n",
    "\n",
    "    sleeping = np.zeros((len(all_ids), MINUTES))\n",
    "    for i in range(len(records)):\n",
    "        if \"#\" in records[i]:\n",
    "            m_id = re.findall('\\d+', str((records[i].split(\"#\")[1])))\n",
    "            m_id = m_id[0]\n",
    "            j = i+1\n",
    "            while '#' not in str(records[j]):\n",
    "                falls_asleep = str(records[j])\n",
    "                falls_asleep = falls_asleep.split(' ')[1].split(':')[1].replace(']','')\n",
    "                wakes_up = str(records[j+1])\n",
    "                wakes_up = wakes_up.split(' ')[1].split(':')[1].replace(']','')\n",
    "                sleeping[int(all_ids.index(m_id)), int(falls_asleep):(int(wakes_up))+1] +=1\n",
    "                if j+2 < len(records):\n",
    "                    j = j+2\n",
    "                else:\n",
    "                    break\n",
    "                    \n",
    "    id_line, minute = np.unravel_index(sleeping.argmax(), sleeping.shape)\n",
    "    id_gaurd = all_ids[id_line]\n",
    "    return minute * int(id_gaurd)\n",
    "\n",
    "\n",
    "\n",
    "\n",
    "assert solve_part2(open(\"day4.txt\").read()) == 78990\n",
    "\n",
    "print(\"OK!\")\n"
   ]
  },
  {
   "cell_type": "code",
   "execution_count": null,
   "metadata": {},
   "outputs": [],
   "source": []
  }
 ],
 "metadata": {
  "kernelspec": {
   "display_name": "Python 3",
   "language": "python",
   "name": "python3"
  },
  "language_info": {
   "codemirror_mode": {
    "name": "ipython",
    "version": 3
   },
   "file_extension": ".py",
   "mimetype": "text/x-python",
   "name": "python",
   "nbconvert_exporter": "python",
   "pygments_lexer": "ipython3",
   "version": "3.7.3"
  }
 },
 "nbformat": 4,
 "nbformat_minor": 4
}
